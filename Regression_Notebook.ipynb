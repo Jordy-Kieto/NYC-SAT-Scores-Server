{
 "cells": [
  {
   "cell_type": "code",
   "execution_count": 1,
   "metadata": {},
   "outputs": [
    {
     "data": {
      "text/plain": [
       "(434, 22)"
      ]
     },
     "execution_count": 1,
     "metadata": {},
     "output_type": "execute_result"
    }
   ],
   "source": [
    "import pandas as pd\n",
    "import pdb\n",
    "import random\n",
    "import matplotlib.pyplot as plt\n",
    "from sklearn import datasets, linear_model, model_selection\n",
    "from sklearn.metrics import mean_squared_error, r2_score\n",
    "from numpy.random import multinomial\n",
    "rowCols = ['Percent Black', 'Percent White', 'Percent Asian', 'Percent Hispanic']\n",
    "rankCols = [col + ' Ranking' for col in rowCols] \n",
    "neededCols = [rowCols[:1][0], 'Average Score (SAT Math)']\n",
    "df = pd.read_csv('scores.csv')\n",
    "zip_to_boro = pd.read_csv('zip_borough.csv')\n",
    "boros = ['Manhattan', 'Staten', 'Bronx', 'Queens', 'Brooklyn']\n",
    "df.shape"
   ]
  },
  {
   "cell_type": "code",
   "execution_count": 2,
   "metadata": {},
   "outputs": [
    {
     "data": {
      "text/plain": [
       "(         borough  boro_id\n",
       " zip                      \n",
       " 10001  Manhattan        1\n",
       " 10002  Manhattan        1\n",
       " 10003  Manhattan        1\n",
       " 10004  Manhattan        1\n",
       " 10005  Manhattan        1,\n",
       " {'Manhattan': 1, 'Staten': 2, 'Bronx': 3, 'Queens': 4, 'Brooklyn': 5})"
      ]
     },
     "execution_count": 2,
     "metadata": {},
     "output_type": "execute_result"
    }
   ],
   "source": [
    "zip_to_boro.borough.unique()\n",
    "boro_to_int = dict(zip(zip_to_boro.borough.unique(), [1,2,3,4,5]))\n",
    "zip_to_boro['boro_id'] = zip_to_boro.borough.apply(lambda x: boro_to_int[x])\n",
    "zip_to_boro = zip_to_boro.set_index('zip')\n",
    "zip_to_boro.head(), boro_to_int\n"
   ]
  },
  {
   "cell_type": "code",
   "execution_count": 3,
   "metadata": {},
   "outputs": [],
   "source": [
    "df['boro_id'] = df['Zip Code'].apply(lambda x: zip_to_boro.loc[x]['borough'])\n"
   ]
  },
  {
   "cell_type": "code",
   "execution_count": 4,
   "metadata": {},
   "outputs": [
    {
     "data": {
      "text/plain": [
       "(374, 23)"
      ]
     },
     "execution_count": 4,
     "metadata": {},
     "output_type": "execute_result"
    }
   ],
   "source": [
    "for col in neededCols:\n",
    "    df = df[pd.notnull(df[col])]\n",
    "df.shape"
   ]
  },
  {
   "cell_type": "code",
   "execution_count": 5,
   "metadata": {},
   "outputs": [],
   "source": [
    "df = df.join(pd.get_dummies(df['boro_id']))"
   ]
  },
  {
   "cell_type": "code",
   "execution_count": 103,
   "metadata": {},
   "outputs": [
    {
     "data": {
      "text/plain": [
       "<matplotlib.collections.PathCollection at 0x1a23756828>"
      ]
     },
     "execution_count": 103,
     "metadata": {},
     "output_type": "execute_result"
    },
    {
     "data": {
      "image/png": "[encoded data removed]",
      "text/plain": [
       "<Figure size 432x288 with 1 Axes>"
      ]
     },
     "metadata": {
      "needs_background": "light"
     },
     "output_type": "display_data"
    }
   ],
   "source": [
    "plt.scatter(df['Student Enrollment'], df['Average Score (SAT Math)'])"
   ]
  },
  {
   "cell_type": "code",
   "execution_count": 7,
   "metadata": {},
   "outputs": [],
   "source": [
    "for col in rowCols:\n",
    "    df[col] = pd.to_numeric(df[col].map(lambda pcnt: pcnt.strip('%')))"
   ]
  },
  {
   "cell_type": "code",
   "execution_count": 8,
   "metadata": {},
   "outputs": [],
   "source": [
    "def getOther(row):\n",
    "    return 100 - row[rowCols].sum()\n",
    "\n",
    "df['Percent Other'] = df[rowCols].apply(getOther, axis=1)"
   ]
  },
  {
   "cell_type": "code",
   "execution_count": 118,
   "metadata": {},
   "outputs": [
    {
     "data": {
      "text/plain": [
       "Index(['School ID', 'School Name', 'Borough', 'Building Code',\n",
       "       'Street Address', 'City', 'State', 'Zip Code', 'Latitude', 'Longitude',\n",
       "       'Phone Number', 'Start Time', 'End Time', 'Student Enrollment',\n",
       "       'Percent White', 'Percent Black', 'Percent Hispanic', 'Percent Asian',\n",
       "       'Average Score (SAT Math)', 'Average Score (SAT Reading)',\n",
       "       'Average Score (SAT Writing)', 'Percent Tested', 'boro_id', 'Bronx',\n",
       "       'Brooklyn', 'Manhattan', 'Queens', 'Staten', 'Percent Other',\n",
       "       'Asian Variance', 'Black Variance', 'variance'],\n",
       "      dtype='object')"
      ]
     },
     "execution_count": 118,
     "metadata": {},
     "output_type": "execute_result"
    }
   ],
   "source": [
    "df['variance'] = 1\n",
    "df.columns"
   ]
  },
  {
   "cell_type": "code",
   "execution_count": 10,
   "metadata": {},
   "outputs": [],
   "source": [
    "# for col in rowCols:\n",
    "#     df[col + ' Ranking'] = 0"
   ]
  },
  {
   "cell_type": "code",
   "execution_count": 11,
   "metadata": {},
   "outputs": [
    {
     "data": {
      "text/plain": [
       "<matplotlib.collections.PathCollection at 0x1a21548d68>"
      ]
     },
     "execution_count": 11,
     "metadata": {},
     "output_type": "execute_result"
    },
    {
     "data": {
      "image/png": "[encoded data removed]",
      "text/plain": [
       "<Figure size 432x288 with 1 Axes>"
      ]
     },
     "metadata": {
      "needs_background": "light"
     },
     "output_type": "display_data"
    }
   ],
   "source": [
    "plt.scatter(df['Percent White'], df['Average Score (SAT Math)'])"
   ]
  },
  {
   "cell_type": "code",
   "execution_count": 119,
   "metadata": {},
   "outputs": [
    {
     "data": {
      "text/html": [
       "<div>\n",
       "<style scoped>\n",
       "    .dataframe tbody tr th:only-of-type {\n",
       "        vertical-align: middle;\n",
       "    }\n",
       "\n",
       "    .dataframe tbody tr th {\n",
       "        vertical-align: top;\n",
       "    }\n",
       "\n",
       "    .dataframe thead th {\n",
       "        text-align: right;\n",
       "    }\n",
       "</style>\n",
       "<table border=\"1\" class=\"dataframe\">\n",
       "  <thead>\n",
       "    <tr style=\"text-align: right;\">\n",
       "      <th></th>\n",
       "      <th>School ID</th>\n",
       "      <th>School Name</th>\n",
       "      <th>Borough</th>\n",
       "      <th>Building Code</th>\n",
       "      <th>Street Address</th>\n",
       "      <th>City</th>\n",
       "      <th>State</th>\n",
       "      <th>Zip Code</th>\n",
       "      <th>Latitude</th>\n",
       "      <th>Longitude</th>\n",
       "      <th>...</th>\n",
       "      <th>boro_id</th>\n",
       "      <th>Bronx</th>\n",
       "      <th>Brooklyn</th>\n",
       "      <th>Manhattan</th>\n",
       "      <th>Queens</th>\n",
       "      <th>Staten</th>\n",
       "      <th>Percent Other</th>\n",
       "      <th>Asian Variance</th>\n",
       "      <th>Black Variance</th>\n",
       "      <th>variance</th>\n",
       "    </tr>\n",
       "  </thead>\n",
       "  <tbody>\n",
       "    <tr>\n",
       "      <th>2</th>\n",
       "      <td>01M539</td>\n",
       "      <td>New Explorations into Science, Technology and ...</td>\n",
       "      <td>Manhattan</td>\n",
       "      <td>M022</td>\n",
       "      <td>111 Columbia Street</td>\n",
       "      <td>Manhattan</td>\n",
       "      <td>NY</td>\n",
       "      <td>10002</td>\n",
       "      <td>40.71873</td>\n",
       "      <td>-73.97943</td>\n",
       "      <td>...</td>\n",
       "      <td>Manhattan</td>\n",
       "      <td>0</td>\n",
       "      <td>0</td>\n",
       "      <td>1</td>\n",
       "      <td>0</td>\n",
       "      <td>0</td>\n",
       "      <td>1.6</td>\n",
       "      <td>3.677624</td>\n",
       "      <td>0.376386</td>\n",
       "      <td>1</td>\n",
       "    </tr>\n",
       "    <tr>\n",
       "      <th>3</th>\n",
       "      <td>02M294</td>\n",
       "      <td>Essex Street Academy</td>\n",
       "      <td>Manhattan</td>\n",
       "      <td>M445</td>\n",
       "      <td>350 Grand Street</td>\n",
       "      <td>Manhattan</td>\n",
       "      <td>NY</td>\n",
       "      <td>10002</td>\n",
       "      <td>40.71687</td>\n",
       "      <td>-73.98953</td>\n",
       "      <td>...</td>\n",
       "      <td>Manhattan</td>\n",
       "      <td>0</td>\n",
       "      <td>0</td>\n",
       "      <td>1</td>\n",
       "      <td>0</td>\n",
       "      <td>0</td>\n",
       "      <td>2.6</td>\n",
       "      <td>0.563584</td>\n",
       "      <td>1.089537</td>\n",
       "      <td>1</td>\n",
       "    </tr>\n",
       "    <tr>\n",
       "      <th>4</th>\n",
       "      <td>02M308</td>\n",
       "      <td>Lower Manhattan Arts Academy</td>\n",
       "      <td>Manhattan</td>\n",
       "      <td>M445</td>\n",
       "      <td>350 Grand Street</td>\n",
       "      <td>Manhattan</td>\n",
       "      <td>NY</td>\n",
       "      <td>10002</td>\n",
       "      <td>40.71687</td>\n",
       "      <td>-73.98953</td>\n",
       "      <td>...</td>\n",
       "      <td>Manhattan</td>\n",
       "      <td>0</td>\n",
       "      <td>0</td>\n",
       "      <td>1</td>\n",
       "      <td>0</td>\n",
       "      <td>0</td>\n",
       "      <td>3.2</td>\n",
       "      <td>0.821495</td>\n",
       "      <td>0.798051</td>\n",
       "      <td>1</td>\n",
       "    </tr>\n",
       "    <tr>\n",
       "      <th>5</th>\n",
       "      <td>02M545</td>\n",
       "      <td>High School for Dual Language and Asian Studies</td>\n",
       "      <td>Manhattan</td>\n",
       "      <td>M445</td>\n",
       "      <td>350 Grand Street</td>\n",
       "      <td>Manhattan</td>\n",
       "      <td>NY</td>\n",
       "      <td>10002</td>\n",
       "      <td>40.71687</td>\n",
       "      <td>-73.98953</td>\n",
       "      <td>...</td>\n",
       "      <td>Manhattan</td>\n",
       "      <td>0</td>\n",
       "      <td>0</td>\n",
       "      <td>1</td>\n",
       "      <td>0</td>\n",
       "      <td>0</td>\n",
       "      <td>0.8</td>\n",
       "      <td>8.491967</td>\n",
       "      <td>0.087729</td>\n",
       "      <td>1</td>\n",
       "    </tr>\n",
       "    <tr>\n",
       "      <th>6</th>\n",
       "      <td>01M292</td>\n",
       "      <td>Henry Street School for International Studies</td>\n",
       "      <td>Manhattan</td>\n",
       "      <td>M056</td>\n",
       "      <td>220 Henry Street</td>\n",
       "      <td>Manhattan</td>\n",
       "      <td>NY</td>\n",
       "      <td>10002</td>\n",
       "      <td>40.71376</td>\n",
       "      <td>-73.98526</td>\n",
       "      <td>...</td>\n",
       "      <td>Manhattan</td>\n",
       "      <td>0</td>\n",
       "      <td>0</td>\n",
       "      <td>1</td>\n",
       "      <td>0</td>\n",
       "      <td>0</td>\n",
       "      <td>1.9</td>\n",
       "      <td>1.260900</td>\n",
       "      <td>0.690512</td>\n",
       "      <td>1</td>\n",
       "    </tr>\n",
       "  </tbody>\n",
       "</table>\n",
       "<p>5 rows × 32 columns</p>\n",
       "</div>"
      ],
      "text/plain": [
       "  School ID                                        School Name    Borough  \\\n",
       "2    01M539  New Explorations into Science, Technology and ...  Manhattan   \n",
       "3    02M294                               Essex Street Academy  Manhattan   \n",
       "4    02M308                       Lower Manhattan Arts Academy  Manhattan   \n",
       "5    02M545    High School for Dual Language and Asian Studies  Manhattan   \n",
       "6    01M292      Henry Street School for International Studies  Manhattan   \n",
       "\n",
       "  Building Code       Street Address       City State  Zip Code  Latitude  \\\n",
       "2          M022  111 Columbia Street  Manhattan    NY     10002  40.71873   \n",
       "3          M445     350 Grand Street  Manhattan    NY     10002  40.71687   \n",
       "4          M445     350 Grand Street  Manhattan    NY     10002  40.71687   \n",
       "5          M445     350 Grand Street  Manhattan    NY     10002  40.71687   \n",
       "6          M056     220 Henry Street  Manhattan    NY     10002  40.71376   \n",
       "\n",
       "   Longitude  ...    boro_id Bronx Brooklyn  Manhattan  Queens  Staten  \\\n",
       "2  -73.97943  ...  Manhattan     0        0          1       0       0   \n",
       "3  -73.98953  ...  Manhattan     0        0          1       0       0   \n",
       "4  -73.98953  ...  Manhattan     0        0          1       0       0   \n",
       "5  -73.98953  ...  Manhattan     0        0          1       0       0   \n",
       "6  -73.98526  ...  Manhattan     0        0          1       0       0   \n",
       "\n",
       "   Percent Other  Asian Variance  Black Variance  variance  \n",
       "2            1.6        3.677624        0.376386         1  \n",
       "3            2.6        0.563584        1.089537         1  \n",
       "4            3.2        0.821495        0.798051         1  \n",
       "5            0.8        8.491967        0.087729         1  \n",
       "6            1.9        1.260900        0.690512         1  \n",
       "\n",
       "[5 rows x 32 columns]"
      ]
     },
     "execution_count": 119,
     "metadata": {},
     "output_type": "execute_result"
    }
   ],
   "source": [
    "df.head()"
   ]
  },
  {
   "cell_type": "code",
   "execution_count": 13,
   "metadata": {},
   "outputs": [
    {
     "data": {
      "text/plain": [
       "<matplotlib.collections.PathCollection at 0x1a219c4828>"
      ]
     },
     "execution_count": 13,
     "metadata": {},
     "output_type": "execute_result"
    },
    {
     "data": {
      "image/png": "[encoded data removed]",
      "text/plain": [
       "<Figure size 432x288 with 1 Axes>"
      ]
     },
     "metadata": {
      "needs_background": "light"
     },
     "output_type": "display_data"
    }
   ],
   "source": [
    "plt.scatter(df['Percent Asian'], df['Average Score (SAT Math)'])"
   ]
  },
  {
   "cell_type": "code",
   "execution_count": 142,
   "metadata": {},
   "outputs": [
    {
     "data": {
      "text/html": [
       "<div>\n",
       "<style scoped>\n",
       "    .dataframe tbody tr th:only-of-type {\n",
       "        vertical-align: middle;\n",
       "    }\n",
       "\n",
       "    .dataframe tbody tr th {\n",
       "        vertical-align: top;\n",
       "    }\n",
       "\n",
       "    .dataframe thead th {\n",
       "        text-align: right;\n",
       "    }\n",
       "</style>\n",
       "<table border=\"1\" class=\"dataframe\">\n",
       "  <thead>\n",
       "    <tr style=\"text-align: right;\">\n",
       "      <th></th>\n",
       "      <th>Percent Black</th>\n",
       "      <th>Percent White</th>\n",
       "      <th>Percent Asian</th>\n",
       "      <th>Percent Hispanic</th>\n",
       "      <th>Percent Other</th>\n",
       "      <th>Average Score (SAT Math)</th>\n",
       "      <th>variance</th>\n",
       "      <th>Manhattan</th>\n",
       "      <th>Staten</th>\n",
       "      <th>Bronx</th>\n",
       "      <th>Queens</th>\n",
       "      <th>Brooklyn</th>\n",
       "    </tr>\n",
       "  </thead>\n",
       "  <tbody>\n",
       "    <tr>\n",
       "      <th>2</th>\n",
       "      <td>14.0</td>\n",
       "      <td>34.0</td>\n",
       "      <td>28.0</td>\n",
       "      <td>19.0</td>\n",
       "      <td>5.0</td>\n",
       "      <td>604.105269</td>\n",
       "      <td>0.919491</td>\n",
       "      <td>1.0</td>\n",
       "      <td>0.0</td>\n",
       "      <td>0.0</td>\n",
       "      <td>0.0</td>\n",
       "      <td>0.0</td>\n",
       "    </tr>\n",
       "    <tr>\n",
       "      <th>3</th>\n",
       "      <td>42.0</td>\n",
       "      <td>12.0</td>\n",
       "      <td>7.0</td>\n",
       "      <td>36.0</td>\n",
       "      <td>3.0</td>\n",
       "      <td>356.737455</td>\n",
       "      <td>0.903133</td>\n",
       "      <td>1.0</td>\n",
       "      <td>0.0</td>\n",
       "      <td>0.0</td>\n",
       "      <td>0.0</td>\n",
       "      <td>0.0</td>\n",
       "    </tr>\n",
       "    <tr>\n",
       "      <th>4</th>\n",
       "      <td>25.0</td>\n",
       "      <td>4.0</td>\n",
       "      <td>8.0</td>\n",
       "      <td>58.0</td>\n",
       "      <td>5.0</td>\n",
       "      <td>429.646361</td>\n",
       "      <td>1.027862</td>\n",
       "      <td>1.0</td>\n",
       "      <td>0.0</td>\n",
       "      <td>0.0</td>\n",
       "      <td>0.0</td>\n",
       "      <td>0.0</td>\n",
       "    </tr>\n",
       "    <tr>\n",
       "      <th>5</th>\n",
       "      <td>7.0</td>\n",
       "      <td>1.0</td>\n",
       "      <td>87.0</td>\n",
       "      <td>5.0</td>\n",
       "      <td>0.0</td>\n",
       "      <td>651.987271</td>\n",
       "      <td>1.063601</td>\n",
       "      <td>1.0</td>\n",
       "      <td>0.0</td>\n",
       "      <td>0.0</td>\n",
       "      <td>0.0</td>\n",
       "      <td>0.0</td>\n",
       "    </tr>\n",
       "    <tr>\n",
       "      <th>6</th>\n",
       "      <td>23.0</td>\n",
       "      <td>6.0</td>\n",
       "      <td>17.0</td>\n",
       "      <td>52.0</td>\n",
       "      <td>2.0</td>\n",
       "      <td>374.935000</td>\n",
       "      <td>0.914476</td>\n",
       "      <td>1.0</td>\n",
       "      <td>0.0</td>\n",
       "      <td>0.0</td>\n",
       "      <td>0.0</td>\n",
       "      <td>0.0</td>\n",
       "    </tr>\n",
       "  </tbody>\n",
       "</table>\n",
       "</div>"
      ],
      "text/plain": [
       "   Percent Black  Percent White  Percent Asian  Percent Hispanic  \\\n",
       "2           14.0           34.0           28.0              19.0   \n",
       "3           42.0           12.0            7.0              36.0   \n",
       "4           25.0            4.0            8.0              58.0   \n",
       "5            7.0            1.0           87.0               5.0   \n",
       "6           23.0            6.0           17.0              52.0   \n",
       "\n",
       "   Percent Other  Average Score (SAT Math)  variance  Manhattan  Staten  \\\n",
       "2            5.0                604.105269  0.919491        1.0     0.0   \n",
       "3            3.0                356.737455  0.903133        1.0     0.0   \n",
       "4            5.0                429.646361  1.027862        1.0     0.0   \n",
       "5            0.0                651.987271  1.063601        1.0     0.0   \n",
       "6            2.0                374.935000  0.914476        1.0     0.0   \n",
       "\n",
       "   Bronx  Queens  Brooklyn  \n",
       "2    0.0     0.0       0.0  \n",
       "3    0.0     0.0       0.0  \n",
       "4    0.0     0.0       0.0  \n",
       "5    0.0     0.0       0.0  \n",
       "6    0.0     0.0       0.0  "
      ]
     },
     "execution_count": 142,
     "metadata": {},
     "output_type": "execute_result"
    }
   ],
   "source": [
    "def randomizeDemos(row):\n",
    "    try:\n",
    "        variance = random.uniform(.9, 1.1)\n",
    "        new_demos = multinomial(100, row[rowCols + ['Percent Other']].values * 0.01)\n",
    "        obj = dict(zip(rowCols + ['Percent Other'], new_demos))\n",
    "        obj['Average Score (SAT Math)'] = row['Average Score (SAT Math)']  * variance\n",
    "        obj['variance'] = variance\n",
    "        for b in boros:\n",
    "            obj[b] = row[b]\n",
    "    except:\n",
    "        return\n",
    "        \n",
    "    return pd.Series(obj)\n",
    "\n",
    "simulated_schools = pd.concat([df[rowCols + ['Percent Other', 'Average Score (SAT Math)'] + boros].apply(randomizeDemos, axis=1) for _ in range(20)])\n",
    "simulated_schools.head()"
   ]
  },
  {
   "cell_type": "code",
   "execution_count": 143,
   "metadata": {},
   "outputs": [],
   "source": [
    "simulated_schools = simulated_schools.dropna()"
   ]
  },
  {
   "cell_type": "code",
   "execution_count": 144,
   "metadata": {},
   "outputs": [
    {
     "data": {
      "text/html": [
       "<div>\n",
       "<style scoped>\n",
       "    .dataframe tbody tr th:only-of-type {\n",
       "        vertical-align: middle;\n",
       "    }\n",
       "\n",
       "    .dataframe tbody tr th {\n",
       "        vertical-align: top;\n",
       "    }\n",
       "\n",
       "    .dataframe thead th {\n",
       "        text-align: right;\n",
       "    }\n",
       "</style>\n",
       "<table border=\"1\" class=\"dataframe\">\n",
       "  <thead>\n",
       "    <tr style=\"text-align: right;\">\n",
       "      <th></th>\n",
       "      <th>Percent Black</th>\n",
       "      <th>Percent White</th>\n",
       "      <th>Percent Asian</th>\n",
       "      <th>Percent Hispanic</th>\n",
       "      <th>Percent Other</th>\n",
       "      <th>Average Score (SAT Math)</th>\n",
       "      <th>Manhattan</th>\n",
       "      <th>Staten</th>\n",
       "      <th>Bronx</th>\n",
       "      <th>Queens</th>\n",
       "      <th>Brooklyn</th>\n",
       "      <th>variance</th>\n",
       "    </tr>\n",
       "  </thead>\n",
       "  <tbody>\n",
       "    <tr>\n",
       "      <th>2</th>\n",
       "      <td>13.3</td>\n",
       "      <td>28.6</td>\n",
       "      <td>38.5</td>\n",
       "      <td>18.0</td>\n",
       "      <td>1.6</td>\n",
       "      <td>657.0</td>\n",
       "      <td>1</td>\n",
       "      <td>0</td>\n",
       "      <td>0</td>\n",
       "      <td>0</td>\n",
       "      <td>0</td>\n",
       "      <td>1</td>\n",
       "    </tr>\n",
       "    <tr>\n",
       "      <th>3</th>\n",
       "      <td>38.5</td>\n",
       "      <td>11.7</td>\n",
       "      <td>5.9</td>\n",
       "      <td>41.3</td>\n",
       "      <td>2.6</td>\n",
       "      <td>395.0</td>\n",
       "      <td>1</td>\n",
       "      <td>0</td>\n",
       "      <td>0</td>\n",
       "      <td>0</td>\n",
       "      <td>0</td>\n",
       "      <td>1</td>\n",
       "    </tr>\n",
       "    <tr>\n",
       "      <th>4</th>\n",
       "      <td>28.2</td>\n",
       "      <td>3.1</td>\n",
       "      <td>8.6</td>\n",
       "      <td>56.9</td>\n",
       "      <td>3.2</td>\n",
       "      <td>418.0</td>\n",
       "      <td>1</td>\n",
       "      <td>0</td>\n",
       "      <td>0</td>\n",
       "      <td>0</td>\n",
       "      <td>0</td>\n",
       "      <td>1</td>\n",
       "    </tr>\n",
       "    <tr>\n",
       "      <th>5</th>\n",
       "      <td>3.1</td>\n",
       "      <td>1.7</td>\n",
       "      <td>88.9</td>\n",
       "      <td>5.5</td>\n",
       "      <td>0.8</td>\n",
       "      <td>613.0</td>\n",
       "      <td>1</td>\n",
       "      <td>0</td>\n",
       "      <td>0</td>\n",
       "      <td>0</td>\n",
       "      <td>0</td>\n",
       "      <td>1</td>\n",
       "    </tr>\n",
       "    <tr>\n",
       "      <th>6</th>\n",
       "      <td>24.4</td>\n",
       "      <td>3.9</td>\n",
       "      <td>13.2</td>\n",
       "      <td>56.6</td>\n",
       "      <td>1.9</td>\n",
       "      <td>410.0</td>\n",
       "      <td>1</td>\n",
       "      <td>0</td>\n",
       "      <td>0</td>\n",
       "      <td>0</td>\n",
       "      <td>0</td>\n",
       "      <td>1</td>\n",
       "    </tr>\n",
       "  </tbody>\n",
       "</table>\n",
       "</div>"
      ],
      "text/plain": [
       "   Percent Black  Percent White  Percent Asian  Percent Hispanic  \\\n",
       "2           13.3           28.6           38.5              18.0   \n",
       "3           38.5           11.7            5.9              41.3   \n",
       "4           28.2            3.1            8.6              56.9   \n",
       "5            3.1            1.7           88.9               5.5   \n",
       "6           24.4            3.9           13.2              56.6   \n",
       "\n",
       "   Percent Other  Average Score (SAT Math)  Manhattan  Staten  Bronx  Queens  \\\n",
       "2            1.6                     657.0          1       0      0       0   \n",
       "3            2.6                     395.0          1       0      0       0   \n",
       "4            3.2                     418.0          1       0      0       0   \n",
       "5            0.8                     613.0          1       0      0       0   \n",
       "6            1.9                     410.0          1       0      0       0   \n",
       "\n",
       "   Brooklyn  variance  \n",
       "2         0         1  \n",
       "3         0         1  \n",
       "4         0         1  \n",
       "5         0         1  \n",
       "6         0         1  "
      ]
     },
     "execution_count": 144,
     "metadata": {},
     "output_type": "execute_result"
    }
   ],
   "source": [
    "df[rowCols + ['Percent Other', 'Average Score (SAT Math)'] + boros + ['variance']].head()"
   ]
  },
  {
   "cell_type": "code",
   "execution_count": 145,
   "metadata": {},
   "outputs": [
    {
     "data": {
      "text/plain": [
       "<matplotlib.collections.PathCollection at 0x1a21f5d588>"
      ]
     },
     "execution_count": 145,
     "metadata": {},
     "output_type": "execute_result"
    },
    {
     "data": {
      "image/png": "[encoded data removed]",
      "text/plain": [
       "<Figure size 432x288 with 1 Axes>"
      ]
     },
     "metadata": {
      "needs_background": "light"
     },
     "output_type": "display_data"
    }
   ],
   "source": [
    "plt.scatter(df['Percent Hispanic'], df['Average Score (SAT Math)'])"
   ]
  },
  {
   "cell_type": "code",
   "execution_count": 146,
   "metadata": {},
   "outputs": [
    {
     "data": {
      "text/plain": [
       "<matplotlib.collections.PathCollection at 0x1a21f48668>"
      ]
     },
     "execution_count": 146,
     "metadata": {},
     "output_type": "execute_result"
    },
    {
     "data": {
      "image/png": "[encoded data removed]",
      "text/plain": [
       "<Figure size 432x288 with 1 Axes>"
      ]
     },
     "metadata": {
      "needs_background": "light"
     },
     "output_type": "display_data"
    }
   ],
   "source": [
    "plt.scatter(df['Percent Black'], df['Average Score (SAT Math)'])"
   ]
  },
  {
   "cell_type": "code",
   "execution_count": 147,
   "metadata": {},
   "outputs": [
    {
     "data": {
      "text/html": [
       "<div>\n",
       "<style scoped>\n",
       "    .dataframe tbody tr th:only-of-type {\n",
       "        vertical-align: middle;\n",
       "    }\n",
       "\n",
       "    .dataframe tbody tr th {\n",
       "        vertical-align: top;\n",
       "    }\n",
       "\n",
       "    .dataframe thead th {\n",
       "        text-align: right;\n",
       "    }\n",
       "</style>\n",
       "<table border=\"1\" class=\"dataframe\">\n",
       "  <thead>\n",
       "    <tr style=\"text-align: right;\">\n",
       "      <th></th>\n",
       "      <th>Percent Black</th>\n",
       "      <th>Percent White</th>\n",
       "      <th>Percent Asian</th>\n",
       "      <th>Percent Hispanic</th>\n",
       "      <th>Percent Other</th>\n",
       "      <th>Manhattan</th>\n",
       "      <th>Staten</th>\n",
       "      <th>Bronx</th>\n",
       "      <th>Queens</th>\n",
       "      <th>Brooklyn</th>\n",
       "      <th>Average Score (SAT Math)</th>\n",
       "      <th>variance</th>\n",
       "    </tr>\n",
       "  </thead>\n",
       "  <tbody>\n",
       "    <tr>\n",
       "      <th>2</th>\n",
       "      <td>14.0</td>\n",
       "      <td>34.0</td>\n",
       "      <td>28.0</td>\n",
       "      <td>19.0</td>\n",
       "      <td>5.0</td>\n",
       "      <td>1.0</td>\n",
       "      <td>0.0</td>\n",
       "      <td>0.0</td>\n",
       "      <td>0.0</td>\n",
       "      <td>0.0</td>\n",
       "      <td>604.105269</td>\n",
       "      <td>0.919491</td>\n",
       "    </tr>\n",
       "    <tr>\n",
       "      <th>3</th>\n",
       "      <td>42.0</td>\n",
       "      <td>12.0</td>\n",
       "      <td>7.0</td>\n",
       "      <td>36.0</td>\n",
       "      <td>3.0</td>\n",
       "      <td>1.0</td>\n",
       "      <td>0.0</td>\n",
       "      <td>0.0</td>\n",
       "      <td>0.0</td>\n",
       "      <td>0.0</td>\n",
       "      <td>356.737455</td>\n",
       "      <td>0.903133</td>\n",
       "    </tr>\n",
       "    <tr>\n",
       "      <th>4</th>\n",
       "      <td>25.0</td>\n",
       "      <td>4.0</td>\n",
       "      <td>8.0</td>\n",
       "      <td>58.0</td>\n",
       "      <td>5.0</td>\n",
       "      <td>1.0</td>\n",
       "      <td>0.0</td>\n",
       "      <td>0.0</td>\n",
       "      <td>0.0</td>\n",
       "      <td>0.0</td>\n",
       "      <td>429.646361</td>\n",
       "      <td>1.027862</td>\n",
       "    </tr>\n",
       "    <tr>\n",
       "      <th>5</th>\n",
       "      <td>7.0</td>\n",
       "      <td>1.0</td>\n",
       "      <td>87.0</td>\n",
       "      <td>5.0</td>\n",
       "      <td>0.0</td>\n",
       "      <td>1.0</td>\n",
       "      <td>0.0</td>\n",
       "      <td>0.0</td>\n",
       "      <td>0.0</td>\n",
       "      <td>0.0</td>\n",
       "      <td>651.987271</td>\n",
       "      <td>1.063601</td>\n",
       "    </tr>\n",
       "    <tr>\n",
       "      <th>6</th>\n",
       "      <td>23.0</td>\n",
       "      <td>6.0</td>\n",
       "      <td>17.0</td>\n",
       "      <td>52.0</td>\n",
       "      <td>2.0</td>\n",
       "      <td>1.0</td>\n",
       "      <td>0.0</td>\n",
       "      <td>0.0</td>\n",
       "      <td>0.0</td>\n",
       "      <td>0.0</td>\n",
       "      <td>374.935000</td>\n",
       "      <td>0.914476</td>\n",
       "    </tr>\n",
       "  </tbody>\n",
       "</table>\n",
       "</div>"
      ],
      "text/plain": [
       "   Percent Black  Percent White  Percent Asian  Percent Hispanic  \\\n",
       "2           14.0           34.0           28.0              19.0   \n",
       "3           42.0           12.0            7.0              36.0   \n",
       "4           25.0            4.0            8.0              58.0   \n",
       "5            7.0            1.0           87.0               5.0   \n",
       "6           23.0            6.0           17.0              52.0   \n",
       "\n",
       "   Percent Other  Manhattan  Staten  Bronx  Queens  Brooklyn  \\\n",
       "2            5.0        1.0     0.0    0.0     0.0       0.0   \n",
       "3            3.0        1.0     0.0    0.0     0.0       0.0   \n",
       "4            5.0        1.0     0.0    0.0     0.0       0.0   \n",
       "5            0.0        1.0     0.0    0.0     0.0       0.0   \n",
       "6            2.0        1.0     0.0    0.0     0.0       0.0   \n",
       "\n",
       "   Average Score (SAT Math)  variance  \n",
       "2                604.105269  0.919491  \n",
       "3                356.737455  0.903133  \n",
       "4                429.646361  1.027862  \n",
       "5                651.987271  1.063601  \n",
       "6                374.935000  0.914476  "
      ]
     },
     "execution_count": 147,
     "metadata": {},
     "output_type": "execute_result"
    }
   ],
   "source": [
    "sim_and_real_data = pd.concat([simulated_schools[rowCols + ['Percent Other'] + boros + ['Average Score (SAT Math)', 'variance']], df[rowCols + ['Percent Other'] + boros + ['Average Score (SAT Math)', 'variance']]])\n",
    "sim_and_real_data = sim_and_real_data.dropna()\n",
    "sim_and_real_data.head()"
   ]
  },
  {
   "cell_type": "code",
   "execution_count": 148,
   "metadata": {},
   "outputs": [],
   "source": [
    "x_train, x_test, y_train, y_test = model_selection.train_test_split(sim_and_real_data[rowCols + ['Percent Other', 'variance'] + boros], sim_and_real_data['Average Score (SAT Math)'])\n"
   ]
  },
  {
   "cell_type": "code",
   "execution_count": 149,
   "metadata": {},
   "outputs": [
    {
     "data": {
      "image/png": "[encoded data removed]",
      "text/plain": [
       "<Figure size 432x288 with 1 Axes>"
      ]
     },
     "metadata": {
      "needs_background": "light"
     },
     "output_type": "display_data"
    },
    {
     "data": {
      "image/png": "[encoded data removed]",
      "text/plain": [
       "<Figure size 432x288 with 1 Axes>"
      ]
     },
     "metadata": {
      "needs_background": "light"
     },
     "output_type": "display_data"
    }
   ],
   "source": [
    "# create a linear regression object\n",
    "regr = linear_model.LinearRegression()\n",
    "\n",
    "# train the model using the training sets\n",
    "regr.fit(x_train, y_train)\n",
    "\n",
    "# make predicitons using the testing set\n",
    "y_predictions = regr.predict(x_test)\n",
    "\n",
    "plt.scatter(y_test, y_test, color=\"black\")\n",
    "plt.xticks()\n",
    "plt.yticks()\n",
    "\n",
    "plt.show()\n",
    "\n",
    "plt.scatter(y_test, y_predictions, color=\"blue\")\n",
    "plt.show()"
   ]
  },
  {
   "cell_type": "code",
   "execution_count": 150,
   "metadata": {},
   "outputs": [
    {
     "name": "stdout",
     "output_type": "stream",
     "text": [
      "Coefficients: \n",
      " [ -1.50990798   0.55576666   1.25246237  -1.80634999   1.50802894\n",
      " 441.03619187  24.10249737 -22.61998765  12.88833661 -10.82734716\n",
      "  -3.54349917]\n",
      "Mean squared error: 1614.95\n",
      "Variance score: 0.72\n"
     ]
    }
   ],
   "source": [
    "# The coefficients\n",
    "print('Coefficients: \\n', regr.coef_)\n",
    "\n",
    "# The mean squared error\n",
    "print(\"Mean squared error: %.2f\"\n",
    "     % mean_squared_error(y_test, y_predictions))\n",
    "\n",
    "# Explained variance score: 1 is the perfect prediction\n",
    "print('Variance score: %.2f' % r2_score(y_test, y_predictions))"
   ]
  },
  {
   "cell_type": "code",
   "execution_count": null,
   "metadata": {},
   "outputs": [],
   "source": []
  }
 ],
 "metadata": {
  "kernelspec": {
   "display_name": "Python 3",
   "language": "python",
   "name": "python3"
  },
  "language_info": {
   "codemirror_mode": {
    "name": "ipython",
    "version": 3
   },
   "file_extension": ".py",
   "mimetype": "text/x-python",
   "name": "python",
   "nbconvert_exporter": "python",
   "pygments_lexer": "ipython3",
   "version": "3.7.3"
  }
 },
 "nbformat": 4,
 "nbformat_minor": 2
}
